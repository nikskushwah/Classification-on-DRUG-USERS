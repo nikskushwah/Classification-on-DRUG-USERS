{
 "cells": [
  {
   "cell_type": "markdown",
   "metadata": {},
   "source": [
    "# Name - Nikhil Singh Kushwah\n",
    "# ID - 1001510381"
   ]
  },
  {
   "cell_type": "code",
   "execution_count": 205,
   "metadata": {},
   "outputs": [],
   "source": [
    "import numpy as np\n",
    "import pandas as pd\n",
    "import sklearn\n",
    "from sklearn.model_selection import train_test_split\n",
    "from sklearn import tree\n",
    "from sklearn.tree import DecisionTreeClassifier\n",
    "from sklearn.ensemble import RandomForestClassifier\n",
    "from sklearn.naive_bayes import GaussianNB\n",
    "import matplotlib.pyplot as plt\n",
    "from sklearn.neighbors import KNeighborsClassifier\n",
    "import openpyxl as px\n",
    "import graphviz\n",
    "import pydotplus\n",
    "from sklearn.externals.six import StringIO  \n",
    "from IPython.display import Image\n",
    "from sklearn.tree import export_graphviz\n",
    "from sklearn.ensemble import RandomForestClassifier\n",
    "from sklearn.metrics import accuracy_score"
   ]
  },
  {
   "cell_type": "markdown",
   "metadata": {},
   "source": [
    "\n",
    "# Task 1: "
   ]
  },
  {
   "cell_type": "code",
   "execution_count": 206,
   "metadata": {
    "scrolled": true
   },
   "outputs": [
    {
     "name": "stdout",
     "output_type": "stream",
     "text": [
      "       Class\n",
      "0     NOUSER\n",
      "1       USER\n",
      "2     NOUSER\n",
      "3       USER\n",
      "4     NOUSER\n",
      "5     NOUSER\n",
      "6     NOUSER\n",
      "7     NOUSER\n",
      "8     NOUSER\n",
      "9     NOUSER\n",
      "10    NOUSER\n",
      "11      USER\n",
      "12      USER\n",
      "13    NOUSER\n",
      "14    NOUSER\n",
      "15    NOUSER\n",
      "16    NOUSER\n",
      "17    NOUSER\n",
      "18    NOUSER\n",
      "19      USER\n",
      "20    NOUSER\n",
      "21    NOUSER\n",
      "22    NOUSER\n",
      "23      USER\n",
      "24    NOUSER\n",
      "25      USER\n",
      "26    NOUSER\n",
      "27      USER\n",
      "28    NOUSER\n",
      "29    NOUSER\n",
      "...      ...\n",
      "1855    USER\n",
      "1856    USER\n",
      "1857    USER\n",
      "1858    USER\n",
      "1859    USER\n",
      "1860    USER\n",
      "1861    USER\n",
      "1862    USER\n",
      "1863    USER\n",
      "1864    USER\n",
      "1865    USER\n",
      "1866    USER\n",
      "1867    USER\n",
      "1868    USER\n",
      "1869    USER\n",
      "1870    USER\n",
      "1871    USER\n",
      "1872    USER\n",
      "1873    USER\n",
      "1874    USER\n",
      "1875    USER\n",
      "1876    USER\n",
      "1877    USER\n",
      "1878  NOUSER\n",
      "1879    USER\n",
      "1880    USER\n",
      "1881    USER\n",
      "1882    USER\n",
      "1883    USER\n",
      "1884    USER\n",
      "\n",
      "[1885 rows x 1 columns]\n"
     ]
    },
    {
     "data": {
      "text/html": [
       "<div>\n",
       "<table border=\"1\" class=\"dataframe\">\n",
       "  <thead>\n",
       "    <tr style=\"text-align: right;\">\n",
       "      <th></th>\n",
       "      <th>ID</th>\n",
       "      <th>Age</th>\n",
       "      <th>Gender</th>\n",
       "      <th>Education</th>\n",
       "      <th>Country</th>\n",
       "      <th>Ethnicity</th>\n",
       "      <th>Nscore</th>\n",
       "      <th>Escore</th>\n",
       "      <th>Oscore</th>\n",
       "      <th>Ascore</th>\n",
       "      <th>...</th>\n",
       "      <th>Ecstasy</th>\n",
       "      <th>Heroin</th>\n",
       "      <th>Ketamine</th>\n",
       "      <th>Legalh</th>\n",
       "      <th>LSD</th>\n",
       "      <th>Meth</th>\n",
       "      <th>Mushrooms</th>\n",
       "      <th>Semer</th>\n",
       "      <th>VSA</th>\n",
       "      <th>Class</th>\n",
       "    </tr>\n",
       "  </thead>\n",
       "  <tbody>\n",
       "    <tr>\n",
       "      <th>0</th>\n",
       "      <td>1</td>\n",
       "      <td>0.49788</td>\n",
       "      <td>0.48246</td>\n",
       "      <td>-0.05921</td>\n",
       "      <td>0.96082</td>\n",
       "      <td>0.12600</td>\n",
       "      <td>0.31287</td>\n",
       "      <td>-0.57545</td>\n",
       "      <td>-0.58331</td>\n",
       "      <td>-0.91699</td>\n",
       "      <td>...</td>\n",
       "      <td>CL0</td>\n",
       "      <td>CL0</td>\n",
       "      <td>CL0</td>\n",
       "      <td>CL0</td>\n",
       "      <td>CL0</td>\n",
       "      <td>CL0</td>\n",
       "      <td>CL0</td>\n",
       "      <td>CL0</td>\n",
       "      <td>CL0</td>\n",
       "      <td>NOUSER</td>\n",
       "    </tr>\n",
       "    <tr>\n",
       "      <th>1</th>\n",
       "      <td>2</td>\n",
       "      <td>-0.07854</td>\n",
       "      <td>-0.48246</td>\n",
       "      <td>1.98437</td>\n",
       "      <td>0.96082</td>\n",
       "      <td>-0.31685</td>\n",
       "      <td>-0.67825</td>\n",
       "      <td>1.93886</td>\n",
       "      <td>1.43533</td>\n",
       "      <td>0.76096</td>\n",
       "      <td>...</td>\n",
       "      <td>CL4</td>\n",
       "      <td>CL0</td>\n",
       "      <td>CL2</td>\n",
       "      <td>CL0</td>\n",
       "      <td>CL2</td>\n",
       "      <td>CL3</td>\n",
       "      <td>CL0</td>\n",
       "      <td>CL0</td>\n",
       "      <td>CL0</td>\n",
       "      <td>USER</td>\n",
       "    </tr>\n",
       "    <tr>\n",
       "      <th>2</th>\n",
       "      <td>3</td>\n",
       "      <td>0.49788</td>\n",
       "      <td>-0.48246</td>\n",
       "      <td>-0.05921</td>\n",
       "      <td>0.96082</td>\n",
       "      <td>-0.31685</td>\n",
       "      <td>-0.46725</td>\n",
       "      <td>0.80523</td>\n",
       "      <td>-0.84732</td>\n",
       "      <td>-1.62090</td>\n",
       "      <td>...</td>\n",
       "      <td>CL0</td>\n",
       "      <td>CL0</td>\n",
       "      <td>CL0</td>\n",
       "      <td>CL0</td>\n",
       "      <td>CL0</td>\n",
       "      <td>CL0</td>\n",
       "      <td>CL1</td>\n",
       "      <td>CL0</td>\n",
       "      <td>CL0</td>\n",
       "      <td>NOUSER</td>\n",
       "    </tr>\n",
       "    <tr>\n",
       "      <th>3</th>\n",
       "      <td>4</td>\n",
       "      <td>-0.95197</td>\n",
       "      <td>0.48246</td>\n",
       "      <td>1.16365</td>\n",
       "      <td>0.96082</td>\n",
       "      <td>-0.31685</td>\n",
       "      <td>-0.14882</td>\n",
       "      <td>-0.80615</td>\n",
       "      <td>-0.01928</td>\n",
       "      <td>0.59042</td>\n",
       "      <td>...</td>\n",
       "      <td>CL0</td>\n",
       "      <td>CL0</td>\n",
       "      <td>CL2</td>\n",
       "      <td>CL0</td>\n",
       "      <td>CL0</td>\n",
       "      <td>CL0</td>\n",
       "      <td>CL0</td>\n",
       "      <td>CL0</td>\n",
       "      <td>CL0</td>\n",
       "      <td>USER</td>\n",
       "    </tr>\n",
       "    <tr>\n",
       "      <th>4</th>\n",
       "      <td>5</td>\n",
       "      <td>0.49788</td>\n",
       "      <td>0.48246</td>\n",
       "      <td>1.98437</td>\n",
       "      <td>0.96082</td>\n",
       "      <td>-0.31685</td>\n",
       "      <td>0.73545</td>\n",
       "      <td>-1.63340</td>\n",
       "      <td>-0.45174</td>\n",
       "      <td>-0.30172</td>\n",
       "      <td>...</td>\n",
       "      <td>CL1</td>\n",
       "      <td>CL0</td>\n",
       "      <td>CL0</td>\n",
       "      <td>CL1</td>\n",
       "      <td>CL0</td>\n",
       "      <td>CL0</td>\n",
       "      <td>CL2</td>\n",
       "      <td>CL0</td>\n",
       "      <td>CL0</td>\n",
       "      <td>NOUSER</td>\n",
       "    </tr>\n",
       "  </tbody>\n",
       "</table>\n",
       "<p>5 rows × 28 columns</p>\n",
       "</div>"
      ],
      "text/plain": [
       "   ID      Age   Gender  Education  Country  Ethnicity   Nscore   Escore  \\\n",
       "0   1  0.49788  0.48246   -0.05921  0.96082    0.12600  0.31287 -0.57545   \n",
       "1   2 -0.07854 -0.48246    1.98437  0.96082   -0.31685 -0.67825  1.93886   \n",
       "2   3  0.49788 -0.48246   -0.05921  0.96082   -0.31685 -0.46725  0.80523   \n",
       "3   4 -0.95197  0.48246    1.16365  0.96082   -0.31685 -0.14882 -0.80615   \n",
       "4   5  0.49788  0.48246    1.98437  0.96082   -0.31685  0.73545 -1.63340   \n",
       "\n",
       "    Oscore   Ascore   ...    Ecstasy  Heroin  Ketamine Legalh  LSD Meth  \\\n",
       "0 -0.58331 -0.91699   ...        CL0     CL0       CL0    CL0  CL0  CL0   \n",
       "1  1.43533  0.76096   ...        CL4     CL0       CL2    CL0  CL2  CL3   \n",
       "2 -0.84732 -1.62090   ...        CL0     CL0       CL0    CL0  CL0  CL0   \n",
       "3 -0.01928  0.59042   ...        CL0     CL0       CL2    CL0  CL0  CL0   \n",
       "4 -0.45174 -0.30172   ...        CL1     CL0       CL0    CL1  CL0  CL0   \n",
       "\n",
       "  Mushrooms Semer  VSA   Class  \n",
       "0       CL0   CL0  CL0  NOUSER  \n",
       "1       CL0   CL0  CL0    USER  \n",
       "2       CL1   CL0  CL0  NOUSER  \n",
       "3       CL0   CL0  CL0    USER  \n",
       "4       CL2   CL0  CL0  NOUSER  \n",
       "\n",
       "[5 rows x 28 columns]"
      ]
     },
     "execution_count": 206,
     "metadata": {},
     "output_type": "execute_result"
    }
   ],
   "source": [
    "df = pd.read_excel('DATASET.xlsx', header=0)\n",
    "df.head()\n",
    "df.describe()\n",
    "Class = []\n",
    "for index, row in df.iterrows():\n",
    "    temp = 1\n",
    "    for x in df.columns:\n",
    "        if row[x]=='CL3' or row[x]=='CL4' or row[x]=='CL5' or row[x]=='CL6':\n",
    "            temp=0\n",
    "    if temp == 0:\n",
    "        Class.append('USER')\n",
    "    else:\n",
    "        Class.append('NOUSER')\n",
    "        \n",
    "df_class = pd.DataFrame({'Class': Class})\n",
    "print(df_class)\n",
    "df.join(df_class)\n",
    "df_updated= pd.concat([df, df_class], axis=1)\n",
    "df_updated.head()"
   ]
  },
  {
   "cell_type": "markdown",
   "metadata": {},
   "source": [
    "# Task 2: "
   ]
  },
  {
   "cell_type": "code",
   "execution_count": 208,
   "metadata": {},
   "outputs": [
    {
     "data": {
      "text/plain": [
       "array([['NOUSER'],\n",
       "       ['USER'],\n",
       "       ['NOUSER'],\n",
       "       ...,\n",
       "       ['USER'],\n",
       "       ['USER'],\n",
       "       ['USER']], dtype=object)"
      ]
     },
     "execution_count": 208,
     "metadata": {},
     "output_type": "execute_result"
    }
   ],
   "source": [
    "traits = data_new.loc[:,['Age', \"Gender\", \"Education\", \"Country\", \"Ethnicity\",\"Nscore\", \n",
    "        \"Escore\", \"Oscore\", \"Ascore\", \"Cscore\", \"Impulsive\",\"SS\"]]\n",
    "traits.head()\n",
    "X = traits.as_matrix()\n",
    "Y = df_updated.loc[:,['Class']]\n",
    "y = Y.as_matrix()\n",
    "y"
   ]
  },
  {
   "cell_type": "code",
   "execution_count": 209,
   "metadata": {},
   "outputs": [
    {
     "data": {
      "text/plain": [
       "array([[ 0.49788,  0.48246, -0.05921, ..., -0.00665, -0.21712, -1.18084],\n",
       "       [-0.07854, -0.48246,  1.98437, ..., -0.14277, -0.71126, -0.21575],\n",
       "       [ 0.49788, -0.48246, -0.05921, ..., -1.0145 , -1.37983,  0.40148],\n",
       "       ...,\n",
       "       [-0.07854,  0.48246,  0.45468, ..., -1.38502,  0.52975, -0.52593],\n",
       "       [-0.95197,  0.48246, -0.61113, ..., -2.57309,  1.29221,  1.2247 ],\n",
       "       [-0.95197, -0.48246, -0.61113, ...,  0.41594,  0.88113,  1.2247 ]])"
      ]
     },
     "execution_count": 209,
     "metadata": {},
     "output_type": "execute_result"
    }
   ],
   "source": [
    "X"
   ]
  },
  {
   "cell_type": "code",
   "execution_count": 210,
   "metadata": {},
   "outputs": [
    {
     "data": {
      "text/plain": [
       "DecisionTreeClassifier(class_weight=None, criterion='entropy', max_depth=3,\n",
       "            max_features=None, max_leaf_nodes=None,\n",
       "            min_impurity_decrease=0.0, min_impurity_split=None,\n",
       "            min_samples_leaf=5, min_samples_split=2,\n",
       "            min_weight_fraction_leaf=0.0, presort=False, random_state=100,\n",
       "            splitter='best')"
      ]
     },
     "execution_count": 210,
     "metadata": {},
     "output_type": "execute_result"
    }
   ],
   "source": [
    "X_train, X_test, y_train, y_test = train_test_split(X, y, test_size = 0.3)\n",
    "Decision_tree_entropy = tree.DecisionTreeClassifier(criterion = \"entropy\", random_state = 100,\n",
    " max_depth=3, min_samples_leaf=5)\n",
    "Decision_tree_entropy.fit(X_train, y_train)"
   ]
  },
  {
   "cell_type": "code",
   "execution_count": 211,
   "metadata": {},
   "outputs": [
    {
     "ename": "InvocationException",
     "evalue": "GraphViz's executables not found",
     "output_type": "error",
     "traceback": [
      "\u001b[0;31m---------------------------------------------------------------------------\u001b[0m",
      "\u001b[0;31mInvocationException\u001b[0m                       Traceback (most recent call last)",
      "\u001b[0;32m<ipython-input-211-00f9200013e9>\u001b[0m in \u001b[0;36m<module>\u001b[0;34m()\u001b[0m\n\u001b[1;32m      5\u001b[0m \u001b[0;34m\u001b[0m\u001b[0m\n\u001b[1;32m      6\u001b[0m \u001b[0mgraph\u001b[0m \u001b[0;34m=\u001b[0m \u001b[0mpydotplus\u001b[0m\u001b[0;34m.\u001b[0m\u001b[0mgraph_from_dot_data\u001b[0m\u001b[0;34m(\u001b[0m\u001b[0mdot_data\u001b[0m\u001b[0;34m.\u001b[0m\u001b[0mgetvalue\u001b[0m\u001b[0;34m(\u001b[0m\u001b[0;34m)\u001b[0m\u001b[0;34m)\u001b[0m\u001b[0;34m\u001b[0m\u001b[0m\n\u001b[0;32m----> 7\u001b[0;31m \u001b[0mImage\u001b[0m\u001b[0;34m(\u001b[0m\u001b[0mgraph\u001b[0m\u001b[0;34m.\u001b[0m\u001b[0mcreate_png\u001b[0m\u001b[0;34m(\u001b[0m\u001b[0;34m)\u001b[0m\u001b[0;34m)\u001b[0m\u001b[0;34m\u001b[0m\u001b[0m\n\u001b[0m",
      "\u001b[0;32m/usr/local/lib/python3.5/dist-packages/pydotplus/graphviz.py\u001b[0m in \u001b[0;36m<lambda>\u001b[0;34m(f, prog)\u001b[0m\n\u001b[1;32m   1795\u001b[0m             self.__setattr__(\n\u001b[1;32m   1796\u001b[0m                 \u001b[0;34m'create_'\u001b[0m \u001b[0;34m+\u001b[0m \u001b[0mfrmt\u001b[0m\u001b[0;34m,\u001b[0m\u001b[0;34m\u001b[0m\u001b[0m\n\u001b[0;32m-> 1797\u001b[0;31m                 \u001b[0;32mlambda\u001b[0m \u001b[0mf\u001b[0m\u001b[0;34m=\u001b[0m\u001b[0mfrmt\u001b[0m\u001b[0;34m,\u001b[0m \u001b[0mprog\u001b[0m\u001b[0;34m=\u001b[0m\u001b[0mself\u001b[0m\u001b[0;34m.\u001b[0m\u001b[0mprog\u001b[0m\u001b[0;34m:\u001b[0m \u001b[0mself\u001b[0m\u001b[0;34m.\u001b[0m\u001b[0mcreate\u001b[0m\u001b[0;34m(\u001b[0m\u001b[0mformat\u001b[0m\u001b[0;34m=\u001b[0m\u001b[0mf\u001b[0m\u001b[0;34m,\u001b[0m \u001b[0mprog\u001b[0m\u001b[0;34m=\u001b[0m\u001b[0mprog\u001b[0m\u001b[0;34m)\u001b[0m\u001b[0;34m\u001b[0m\u001b[0m\n\u001b[0m\u001b[1;32m   1798\u001b[0m             )\n\u001b[1;32m   1799\u001b[0m             \u001b[0mf\u001b[0m \u001b[0;34m=\u001b[0m \u001b[0mself\u001b[0m\u001b[0;34m.\u001b[0m\u001b[0m__dict__\u001b[0m\u001b[0;34m[\u001b[0m\u001b[0;34m'create_'\u001b[0m \u001b[0;34m+\u001b[0m \u001b[0mfrmt\u001b[0m\u001b[0;34m]\u001b[0m\u001b[0;34m\u001b[0m\u001b[0m\n",
      "\u001b[0;32m/usr/local/lib/python3.5/dist-packages/pydotplus/graphviz.py\u001b[0m in \u001b[0;36mcreate\u001b[0;34m(self, prog, format)\u001b[0m\n\u001b[1;32m   1958\u001b[0m             \u001b[0;32mif\u001b[0m \u001b[0mself\u001b[0m\u001b[0;34m.\u001b[0m\u001b[0mprogs\u001b[0m \u001b[0;32mis\u001b[0m \u001b[0;32mNone\u001b[0m\u001b[0;34m:\u001b[0m\u001b[0;34m\u001b[0m\u001b[0m\n\u001b[1;32m   1959\u001b[0m                 raise InvocationException(\n\u001b[0;32m-> 1960\u001b[0;31m                     'GraphViz\\'s executables not found')\n\u001b[0m\u001b[1;32m   1961\u001b[0m \u001b[0;34m\u001b[0m\u001b[0m\n\u001b[1;32m   1962\u001b[0m         \u001b[0;32mif\u001b[0m \u001b[0mprog\u001b[0m \u001b[0;32mnot\u001b[0m \u001b[0;32min\u001b[0m \u001b[0mself\u001b[0m\u001b[0;34m.\u001b[0m\u001b[0mprogs\u001b[0m\u001b[0;34m:\u001b[0m\u001b[0;34m\u001b[0m\u001b[0m\n",
      "\u001b[0;31mInvocationException\u001b[0m: GraphViz's executables not found"
     ]
    }
   ],
   "source": [
    "dot_data = StringIO()\n",
    "export_graphviz(clf_entropy, out_file=dot_data,  \n",
    "                filled=True, rounded=True,\n",
    "                special_characters=True)\n",
    "\n",
    "graph = pydotplus.graph_from_dot_data(dot_data.getvalue())  \n",
    "Image(graph.create_png())"
   ]
  },
  {
   "cell_type": "markdown",
   "metadata": {},
   "source": [
    "# TASK 3"
   ]
  },
  {
   "cell_type": "code",
   "execution_count": 172,
   "metadata": {},
   "outputs": [
    {
     "name": "stderr",
     "output_type": "stream",
     "text": [
      "/usr/local/lib/python3.5/dist-packages/sklearn/utils/validation.py:547: DataConversionWarning: A column-vector y was passed when a 1d array was expected. Please change the shape of y to (n_samples, ), for example using ravel().\n",
      "  y = column_or_1d(y, warn=True)\n"
     ]
    },
    {
     "data": {
      "text/plain": [
       "GaussianNB(priors=None)"
      ]
     },
     "execution_count": 172,
     "metadata": {},
     "output_type": "execute_result"
    }
   ],
   "source": [
    "bayes_gaussian = GaussianNB()\n",
    "bayes_gaussian.fit(X_train,y_train)"
   ]
  },
  {
   "cell_type": "code",
   "execution_count": 201,
   "metadata": {},
   "outputs": [
    {
     "name": "stdout",
     "output_type": "stream",
     "text": [
      "['USER' 'USER' 'USER' 'NOUSER' 'USER' 'NOUSER' 'USER' 'USER' 'NOUSER'\n",
      " 'NOUSER' 'NOUSER' 'NOUSER' 'USER' 'NOUSER' 'NOUSER' 'NOUSER' 'NOUSER'\n",
      " 'USER' 'NOUSER' 'NOUSER' 'USER' 'USER' 'USER' 'USER' 'USER' 'USER' 'USER'\n",
      " 'USER' 'NOUSER' 'USER' 'USER' 'USER' 'NOUSER' 'USER' 'USER' 'USER' 'USER'\n",
      " 'USER' 'NOUSER' 'NOUSER' 'USER' 'USER' 'NOUSER' 'USER' 'NOUSER' 'USER'\n",
      " 'USER' 'USER' 'USER' 'USER' 'USER' 'NOUSER' 'NOUSER' 'USER' 'NOUSER'\n",
      " 'USER' 'NOUSER' 'NOUSER' 'USER' 'NOUSER' 'NOUSER' 'NOUSER' 'NOUSER'\n",
      " 'NOUSER' 'NOUSER' 'USER' 'USER' 'USER' 'NOUSER' 'NOUSER' 'NOUSER'\n",
      " 'NOUSER' 'USER' 'USER' 'USER' 'NOUSER' 'USER' 'NOUSER' 'USER' 'NOUSER'\n",
      " 'USER' 'USER' 'USER' 'NOUSER' 'NOUSER' 'USER' 'USER' 'USER' 'USER'\n",
      " 'NOUSER' 'USER' 'NOUSER' 'USER' 'USER' 'NOUSER' 'NOUSER' 'USER' 'USER'\n",
      " 'NOUSER' 'NOUSER' 'NOUSER' 'NOUSER' 'NOUSER' 'USER' 'USER' 'USER' 'USER'\n",
      " 'NOUSER' 'USER' 'USER' 'NOUSER' 'NOUSER' 'NOUSER' 'NOUSER' 'NOUSER'\n",
      " 'USER' 'USER' 'USER' 'USER' 'NOUSER' 'USER' 'USER' 'NOUSER' 'USER' 'USER'\n",
      " 'USER' 'USER' 'NOUSER' 'USER' 'USER' 'NOUSER' 'NOUSER' 'USER' 'NOUSER'\n",
      " 'USER' 'USER' 'USER' 'NOUSER' 'NOUSER' 'NOUSER' 'USER' 'USER' 'USER'\n",
      " 'NOUSER' 'USER' 'NOUSER' 'NOUSER' 'USER' 'NOUSER' 'USER' 'NOUSER' 'USER'\n",
      " 'NOUSER' 'NOUSER' 'USER' 'USER' 'NOUSER' 'NOUSER' 'USER' 'USER' 'NOUSER'\n",
      " 'USER' 'USER' 'NOUSER' 'USER' 'USER' 'USER' 'NOUSER' 'USER' 'NOUSER'\n",
      " 'NOUSER' 'USER' 'NOUSER' 'NOUSER' 'USER' 'USER' 'USER' 'NOUSER' 'NOUSER'\n",
      " 'USER' 'USER' 'NOUSER' 'USER' 'NOUSER' 'USER' 'NOUSER' 'USER' 'USER'\n",
      " 'USER' 'NOUSER' 'NOUSER' 'USER' 'USER' 'USER' 'USER' 'USER' 'NOUSER'\n",
      " 'NOUSER' 'USER' 'NOUSER' 'USER' 'NOUSER' 'USER' 'NOUSER' 'NOUSER'\n",
      " 'NOUSER' 'USER' 'USER' 'USER' 'NOUSER' 'USER' 'NOUSER' 'USER' 'NOUSER'\n",
      " 'USER' 'NOUSER' 'NOUSER' 'USER' 'NOUSER' 'USER' 'USER' 'USER' 'NOUSER'\n",
      " 'NOUSER' 'NOUSER' 'USER' 'NOUSER' 'USER' 'NOUSER' 'NOUSER' 'NOUSER'\n",
      " 'USER' 'USER' 'USER' 'NOUSER' 'USER' 'USER' 'NOUSER' 'NOUSER' 'NOUSER'\n",
      " 'NOUSER' 'NOUSER' 'NOUSER' 'USER' 'NOUSER' 'USER' 'USER' 'USER' 'NOUSER'\n",
      " 'NOUSER' 'USER' 'NOUSER' 'NOUSER' 'USER' 'NOUSER' 'USER' 'USER' 'USER'\n",
      " 'NOUSER' 'NOUSER' 'USER' 'NOUSER' 'USER' 'NOUSER' 'USER' 'NOUSER' 'USER'\n",
      " 'NOUSER' 'NOUSER' 'USER' 'USER' 'NOUSER' 'NOUSER' 'USER' 'NOUSER'\n",
      " 'NOUSER' 'USER' 'USER' 'USER' 'USER' 'USER' 'NOUSER' 'NOUSER' 'NOUSER'\n",
      " 'USER' 'USER' 'USER' 'USER' 'NOUSER' 'USER' 'NOUSER' 'USER' 'USER' 'USER'\n",
      " 'USER' 'USER' 'USER' 'NOUSER' 'USER' 'USER' 'NOUSER' 'USER' 'NOUSER'\n",
      " 'NOUSER' 'NOUSER' 'USER' 'USER' 'USER' 'NOUSER' 'USER' 'NOUSER' 'USER'\n",
      " 'NOUSER' 'USER' 'USER' 'USER' 'USER' 'NOUSER' 'NOUSER' 'USER' 'NOUSER'\n",
      " 'USER' 'NOUSER' 'USER' 'USER' 'NOUSER' 'USER' 'NOUSER' 'NOUSER' 'NOUSER'\n",
      " 'NOUSER' 'NOUSER' 'USER' 'USER' 'NOUSER' 'NOUSER' 'USER' 'NOUSER' 'USER'\n",
      " 'NOUSER' 'USER' 'USER' 'NOUSER' 'USER' 'USER' 'NOUSER' 'USER' 'USER'\n",
      " 'NOUSER' 'USER' 'NOUSER' 'USER' 'USER' 'USER' 'NOUSER' 'USER' 'NOUSER'\n",
      " 'USER' 'USER' 'NOUSER' 'USER' 'NOUSER' 'USER' 'NOUSER' 'NOUSER' 'USER'\n",
      " 'NOUSER' 'NOUSER' 'NOUSER' 'NOUSER' 'USER' 'USER' 'NOUSER' 'USER' 'USER'\n",
      " 'NOUSER' 'USER' 'NOUSER' 'USER' 'USER' 'USER' 'USER' 'USER' 'NOUSER'\n",
      " 'NOUSER' 'NOUSER' 'NOUSER' 'USER' 'USER' 'NOUSER' 'USER' 'USER' 'NOUSER'\n",
      " 'USER' 'USER' 'USER' 'USER' 'NOUSER' 'NOUSER' 'USER' 'NOUSER' 'USER'\n",
      " 'USER' 'NOUSER' 'NOUSER' 'NOUSER' 'NOUSER' 'USER' 'NOUSER' 'USER'\n",
      " 'NOUSER' 'NOUSER' 'USER' 'USER' 'NOUSER' 'NOUSER' 'USER' 'USER' 'USER'\n",
      " 'USER' 'NOUSER' 'USER' 'USER' 'USER' 'NOUSER' 'NOUSER' 'USER' 'USER'\n",
      " 'USER' 'NOUSER' 'NOUSER' 'USER' 'USER' 'USER' 'NOUSER' 'USER' 'USER'\n",
      " 'NOUSER' 'USER' 'NOUSER' 'USER' 'NOUSER' 'USER' 'NOUSER' 'NOUSER'\n",
      " 'NOUSER' 'USER' 'NOUSER' 'NOUSER' 'USER' 'USER' 'USER' 'USER' 'USER'\n",
      " 'USER' 'USER' 'USER' 'USER' 'NOUSER' 'USER' 'NOUSER' 'NOUSER' 'NOUSER'\n",
      " 'NOUSER' 'NOUSER' 'USER' 'USER' 'USER' 'NOUSER' 'USER' 'NOUSER' 'NOUSER'\n",
      " 'NOUSER' 'USER' 'USER' 'USER' 'NOUSER' 'USER' 'NOUSER' 'NOUSER' 'NOUSER'\n",
      " 'NOUSER' 'USER' 'USER' 'NOUSER' 'USER' 'USER' 'USER' 'NOUSER' 'NOUSER'\n",
      " 'USER' 'USER' 'NOUSER' 'USER' 'NOUSER' 'USER' 'NOUSER' 'USER' 'NOUSER'\n",
      " 'NOUSER' 'USER' 'USER' 'USER' 'USER' 'USER' 'NOUSER' 'USER' 'NOUSER'\n",
      " 'USER' 'USER' 'NOUSER' 'NOUSER' 'NOUSER' 'NOUSER' 'USER' 'USER' 'USER'\n",
      " 'NOUSER' 'NOUSER' 'USER' 'NOUSER' 'USER' 'NOUSER' 'USER' 'USER' 'NOUSER'\n",
      " 'NOUSER' 'USER' 'NOUSER' 'NOUSER' 'USER' 'NOUSER' 'NOUSER' 'USER'\n",
      " 'NOUSER' 'USER' 'USER' 'USER' 'NOUSER' 'USER' 'USER' 'USER' 'NOUSER'\n",
      " 'NOUSER' 'USER' 'USER' 'NOUSER' 'NOUSER' 'USER' 'USER' 'USER' 'NOUSER'\n",
      " 'USER' 'NOUSER' 'NOUSER' 'NOUSER' 'USER' 'NOUSER' 'USER' 'USER' 'NOUSER'\n",
      " 'USER' 'NOUSER' 'USER' 'NOUSER' 'USER']\n",
      "Accuracy score:0.803886925795053\n"
     ]
    }
   ],
   "source": [
    "predicted = bayes_gaussian.predict(X_test)\n",
    "accuracy = accuracy_score(y_test, predicted)\n",
    "print(predicted)\n",
    "print('Accuracy score:' + str(accuracy))\n"
   ]
  },
  {
   "cell_type": "markdown",
   "metadata": {},
   "source": [
    "# Task 4: "
   ]
  },
  {
   "cell_type": "code",
   "execution_count": 177,
   "metadata": {},
   "outputs": [
    {
     "name": "stdout",
     "output_type": "stream",
     "text": [
      "Precision_Score:77.43885895775469 %\n",
      "Accuracy Score:75.79505300353357 %\n",
      "Confusion Matrix:\n",
      "[[202  41]\n",
      " [ 96 227]]\n",
      "Report:\n",
      "             precision    recall  f1-score   support\n",
      "\n",
      "     NOUSER       0.73      0.81      0.77       250\n",
      "       USER       0.83      0.76      0.79       316\n",
      "\n",
      "avg / total       0.79      0.78      0.78       566\n",
      "\n"
     ]
    }
   ],
   "source": [
    "from sklearn.metrics import classification_report,accuracy_score,confusion_matrix,precision_score\n",
    "df_prediction = Decision_tree_entropy.predict(X_test)\n",
    "df_accuracy = accuracy_score(y_test,df_prediction)\n",
    "df_report = classification_report(y_test,df_prediction)\n",
    "df_confusion_matrix = confusion_matrix(y_test,df_prediction)\n",
    "df_precision = precision_score(y_test,df_prediction,average='weighted')\n",
    "\n",
    "print(\"Precision_Score:\" + str(df_precision*100),'%')\n",
    "print(\"Accuracy Score:\" + str(df_accuracy*100),'%')\n",
    "print(\"Confusion Matrix:\")\n",
    "print(df_confusion_matrix)\n",
    "print(\"Report:\")\n",
    "print(report)"
   ]
  },
  {
   "cell_type": "code",
   "execution_count": 182,
   "metadata": {
    "scrolled": true
   },
   "outputs": [
    {
     "name": "stdout",
     "output_type": "stream",
     "text": [
      "Precision_Score:76.7121735367035 %\n",
      "Accuracy Score:76.5017667844523 %\n",
      "Confusion Matrix:\n",
      "[[183  60]\n",
      " [ 73 250]]\n",
      "Report:\n",
      "             precision    recall  f1-score   support\n",
      "\n",
      "     NOUSER       0.73      0.81      0.77       250\n",
      "       USER       0.83      0.76      0.79       316\n",
      "\n",
      "avg / total       0.79      0.78      0.78       566\n",
      "\n"
     ]
    }
   ],
   "source": [
    "from sklearn.metrics import classification_report,accuracy_score,confusion_matrix,precision_score\n",
    "df_prediction = knn_classifier.predict(X_test)\n",
    "df_accuracy = accuracy_score(y_test,df_prediction)\n",
    "df_report = classification_report(y_test,df_prediction)\n",
    "df_confusion_matrix = confusion_matrix(y_test,df_prediction)\n",
    "df_precision = precision_score(y_test,df_prediction,average='weighted')\n",
    "\n",
    "print(\"Precision_Score:\" + str(df_precision*100),'%')\n",
    "print(\"Accuracy Score:\" + str(df_accuracy*100),'%')\n",
    "print(\"Confusion Matrix:\")\n",
    "print(df_confusion_matrix)\n",
    "print(\"Report:\")\n",
    "print(report)"
   ]
  },
  {
   "cell_type": "code",
   "execution_count": 183,
   "metadata": {},
   "outputs": [
    {
     "name": "stdout",
     "output_type": "stream",
     "text": [
      "Precision_Score:80.622814197882 %\n",
      "Accuracy Score:80.3886925795053 %\n",
      "Confusion Matrix:\n",
      "[[195  48]\n",
      " [ 63 260]]\n",
      "Report:\n",
      "             precision    recall  f1-score   support\n",
      "\n",
      "     NOUSER       0.73      0.81      0.77       250\n",
      "       USER       0.83      0.76      0.79       316\n",
      "\n",
      "avg / total       0.79      0.78      0.78       566\n",
      "\n"
     ]
    }
   ],
   "source": [
    "from sklearn.metrics import classification_report,accuracy_score,confusion_matrix,precision_score\n",
    "df_prediction = bayes_gaussian.predict(X_test)\n",
    "df_accuracy = accuracy_score(y_test,df_prediction)\n",
    "df_report = classification_report(y_test,df_prediction)\n",
    "df_confusion_matrix = confusion_matrix(y_test,df_prediction)\n",
    "df_precision = precision_score(y_test,df_prediction,average='weighted')\n",
    "\n",
    "print(\"Precision_Score:\" + str(df_precision*100),'%')\n",
    "print(\"Accuracy Score:\" + str(df_accuracy*100),'%')\n",
    "print(\"Confusion Matrix:\")\n",
    "print(df_confusion_matrix)\n",
    "print(\"Report:\")\n",
    "print(report)"
   ]
  },
  {
   "cell_type": "markdown",
   "metadata": {},
   "source": [
    "# Task 5: "
   ]
  },
  {
   "cell_type": "code",
   "execution_count": 202,
   "metadata": {},
   "outputs": [
    {
     "name": "stderr",
     "output_type": "stream",
     "text": [
      "/home/nikhil/.local/lib/python3.5/site-packages/ipykernel_launcher.py:2: DataConversionWarning: A column-vector y was passed when a 1d array was expected. Please change the shape of y to (n_samples, ), for example using ravel().\n",
      "  \n"
     ]
    },
    {
     "data": {
      "text/plain": [
       "KNeighborsClassifier(algorithm='auto', leaf_size=30, metric='euclidean',\n",
       "           metric_params=None, n_jobs=1, n_neighbors=3, p=2,\n",
       "           weights='uniform')"
      ]
     },
     "execution_count": 202,
     "metadata": {},
     "output_type": "execute_result"
    }
   ],
   "source": [
    "knn_classifier = KNeighborsClassifier(n_neighbors=3,metric=\"euclidean\")\n",
    "knn_classifier.fit(X_train, y_train) "
   ]
  },
  {
   "cell_type": "code",
   "execution_count": 203,
   "metadata": {},
   "outputs": [
    {
     "name": "stdout",
     "output_type": "stream",
     "text": [
      "['USER' 'USER' 'USER' 'NOUSER' 'USER' 'USER' 'USER' 'NOUSER' 'USER'\n",
      " 'NOUSER' 'USER' 'USER' 'USER' 'NOUSER' 'NOUSER' 'NOUSER' 'NOUSER' 'USER'\n",
      " 'NOUSER' 'NOUSER' 'USER' 'USER' 'USER' 'USER' 'USER' 'USER' 'USER' 'USER'\n",
      " 'NOUSER' 'USER' 'USER' 'USER' 'NOUSER' 'USER' 'USER' 'USER' 'USER' 'USER'\n",
      " 'NOUSER' 'NOUSER' 'NOUSER' 'USER' 'NOUSER' 'USER' 'NOUSER' 'USER' 'USER'\n",
      " 'USER' 'NOUSER' 'USER' 'USER' 'NOUSER' 'NOUSER' 'USER' 'NOUSER' 'USER'\n",
      " 'NOUSER' 'NOUSER' 'USER' 'NOUSER' 'NOUSER' 'NOUSER' 'NOUSER' 'NOUSER'\n",
      " 'NOUSER' 'USER' 'USER' 'USER' 'NOUSER' 'NOUSER' 'NOUSER' 'NOUSER' 'USER'\n",
      " 'USER' 'USER' 'NOUSER' 'USER' 'USER' 'USER' 'NOUSER' 'USER' 'NOUSER'\n",
      " 'USER' 'NOUSER' 'NOUSER' 'USER' 'USER' 'USER' 'USER' 'NOUSER' 'USER'\n",
      " 'NOUSER' 'USER' 'USER' 'NOUSER' 'NOUSER' 'USER' 'USER' 'NOUSER' 'NOUSER'\n",
      " 'NOUSER' 'NOUSER' 'NOUSER' 'USER' 'USER' 'NOUSER' 'USER' 'USER' 'USER'\n",
      " 'USER' 'USER' 'NOUSER' 'NOUSER' 'NOUSER' 'NOUSER' 'USER' 'USER' 'USER'\n",
      " 'USER' 'NOUSER' 'USER' 'USER' 'NOUSER' 'USER' 'USER' 'USER' 'NOUSER'\n",
      " 'NOUSER' 'USER' 'USER' 'NOUSER' 'NOUSER' 'USER' 'USER' 'USER' 'USER'\n",
      " 'USER' 'NOUSER' 'NOUSER' 'NOUSER' 'USER' 'USER' 'USER' 'NOUSER' 'USER'\n",
      " 'NOUSER' 'NOUSER' 'USER' 'NOUSER' 'USER' 'NOUSER' 'USER' 'NOUSER'\n",
      " 'NOUSER' 'USER' 'USER' 'USER' 'USER' 'USER' 'USER' 'NOUSER' 'USER' 'USER'\n",
      " 'NOUSER' 'USER' 'USER' 'USER' 'NOUSER' 'USER' 'NOUSER' 'NOUSER' 'USER'\n",
      " 'NOUSER' 'NOUSER' 'NOUSER' 'USER' 'USER' 'NOUSER' 'NOUSER' 'USER' 'USER'\n",
      " 'NOUSER' 'USER' 'USER' 'USER' 'NOUSER' 'USER' 'USER' 'USER' 'USER'\n",
      " 'NOUSER' 'USER' 'USER' 'USER' 'USER' 'USER' 'USER' 'NOUSER' 'USER' 'USER'\n",
      " 'USER' 'USER' 'USER' 'NOUSER' 'NOUSER' 'USER' 'USER' 'NOUSER' 'USER'\n",
      " 'NOUSER' 'NOUSER' 'NOUSER' 'USER' 'NOUSER' 'USER' 'NOUSER' 'USER' 'USER'\n",
      " 'NOUSER' 'USER' 'USER' 'USER' 'NOUSER' 'NOUSER' 'USER' 'USER' 'NOUSER'\n",
      " 'USER' 'NOUSER' 'NOUSER' 'NOUSER' 'USER' 'USER' 'USER' 'NOUSER' 'USER'\n",
      " 'USER' 'NOUSER' 'NOUSER' 'NOUSER' 'NOUSER' 'NOUSER' 'NOUSER' 'USER'\n",
      " 'NOUSER' 'USER' 'USER' 'USER' 'USER' 'NOUSER' 'USER' 'NOUSER' 'NOUSER'\n",
      " 'USER' 'NOUSER' 'NOUSER' 'USER' 'USER' 'NOUSER' 'NOUSER' 'USER' 'NOUSER'\n",
      " 'USER' 'NOUSER' 'USER' 'NOUSER' 'NOUSER' 'NOUSER' 'NOUSER' 'USER' 'USER'\n",
      " 'USER' 'NOUSER' 'NOUSER' 'NOUSER' 'NOUSER' 'USER' 'USER' 'NOUSER' 'USER'\n",
      " 'USER' 'NOUSER' 'NOUSER' 'NOUSER' 'NOUSER' 'USER' 'USER' 'USER' 'NOUSER'\n",
      " 'USER' 'NOUSER' 'NOUSER' 'USER' 'USER' 'USER' 'USER' 'USER' 'USER' 'USER'\n",
      " 'USER' 'NOUSER' 'NOUSER' 'NOUSER' 'NOUSER' 'USER' 'USER' 'USER' 'USER'\n",
      " 'NOUSER' 'USER' 'NOUSER' 'USER' 'NOUSER' 'USER' 'USER' 'USER' 'USER'\n",
      " 'NOUSER' 'USER' 'USER' 'NOUSER' 'USER' 'NOUSER' 'USER' 'NOUSER' 'NOUSER'\n",
      " 'USER' 'NOUSER' 'NOUSER' 'NOUSER' 'NOUSER' 'NOUSER' 'USER' 'USER'\n",
      " 'NOUSER' 'NOUSER' 'USER' 'NOUSER' 'USER' 'NOUSER' 'USER' 'NOUSER'\n",
      " 'NOUSER' 'USER' 'USER' 'USER' 'USER' 'USER' 'NOUSER' 'NOUSER' 'NOUSER'\n",
      " 'NOUSER' 'USER' 'USER' 'NOUSER' 'USER' 'NOUSER' 'NOUSER' 'USER' 'NOUSER'\n",
      " 'USER' 'NOUSER' 'USER' 'NOUSER' 'NOUSER' 'NOUSER' 'NOUSER' 'NOUSER'\n",
      " 'NOUSER' 'NOUSER' 'USER' 'USER' 'NOUSER' 'NOUSER' 'USER' 'NOUSER' 'USER'\n",
      " 'NOUSER' 'USER' 'USER' 'USER' 'USER' 'USER' 'NOUSER' 'NOUSER' 'NOUSER'\n",
      " 'NOUSER' 'USER' 'USER' 'NOUSER' 'USER' 'USER' 'NOUSER' 'USER' 'USER'\n",
      " 'USER' 'USER' 'NOUSER' 'NOUSER' 'USER' 'USER' 'NOUSER' 'USER' 'NOUSER'\n",
      " 'NOUSER' 'NOUSER' 'USER' 'USER' 'NOUSER' 'USER' 'NOUSER' 'USER' 'USER'\n",
      " 'USER' 'NOUSER' 'NOUSER' 'USER' 'USER' 'USER' 'USER' 'NOUSER' 'USER'\n",
      " 'USER' 'USER' 'NOUSER' 'NOUSER' 'USER' 'NOUSER' 'USER' 'NOUSER' 'NOUSER'\n",
      " 'USER' 'USER' 'USER' 'NOUSER' 'USER' 'USER' 'NOUSER' 'USER' 'NOUSER'\n",
      " 'USER' 'NOUSER' 'USER' 'NOUSER' 'NOUSER' 'NOUSER' 'USER' 'NOUSER'\n",
      " 'NOUSER' 'USER' 'USER' 'USER' 'USER' 'NOUSER' 'USER' 'USER' 'USER' 'USER'\n",
      " 'USER' 'NOUSER' 'NOUSER' 'NOUSER' 'NOUSER' 'NOUSER' 'NOUSER' 'USER'\n",
      " 'NOUSER' 'USER' 'USER' 'USER' 'NOUSER' 'NOUSER' 'NOUSER' 'USER' 'USER'\n",
      " 'USER' 'USER' 'USER' 'NOUSER' 'NOUSER' 'NOUSER' 'NOUSER' 'USER' 'USER'\n",
      " 'USER' 'USER' 'USER' 'USER' 'NOUSER' 'NOUSER' 'USER' 'NOUSER' 'NOUSER'\n",
      " 'USER' 'NOUSER' 'NOUSER' 'USER' 'USER' 'NOUSER' 'NOUSER' 'NOUSER' 'USER'\n",
      " 'USER' 'USER' 'USER' 'USER' 'USER' 'NOUSER' 'USER' 'USER' 'USER' 'NOUSER'\n",
      " 'NOUSER' 'NOUSER' 'USER' 'USER' 'USER' 'NOUSER' 'NOUSER' 'USER' 'NOUSER'\n",
      " 'USER' 'USER' 'USER' 'USER' 'NOUSER' 'NOUSER' 'USER' 'NOUSER' 'NOUSER'\n",
      " 'USER' 'NOUSER' 'NOUSER' 'USER' 'NOUSER' 'USER' 'USER' 'USER' 'NOUSER'\n",
      " 'NOUSER' 'USER' 'USER' 'NOUSER' 'NOUSER' 'USER' 'USER' 'NOUSER' 'NOUSER'\n",
      " 'USER' 'USER' 'USER' 'NOUSER' 'USER' 'NOUSER' 'NOUSER' 'USER' 'NOUSER'\n",
      " 'NOUSER' 'USER' 'NOUSER' 'NOUSER' 'USER' 'NOUSER' 'USER' 'NOUSER' 'USER']\n",
      "Accuracy score:0.765017667844523\n"
     ]
    }
   ],
   "source": [
    "predicted = knn_classifier.predict(X_test)\n",
    "accuracy = accuracy_score(y_test, predicted)\n",
    "print(predicted)\n",
    "print('Accuracy score:' + str(accuracy))"
   ]
  },
  {
   "cell_type": "markdown",
   "metadata": {},
   "source": [
    "# Task 6: "
   ]
  },
  {
   "cell_type": "code",
   "execution_count": 186,
   "metadata": {},
   "outputs": [
    {
     "name": "stderr",
     "output_type": "stream",
     "text": [
      "/home/nikhil/.local/lib/python3.5/site-packages/ipykernel_launcher.py:2: DataConversionWarning: A column-vector y was passed when a 1d array was expected. Please change the shape of y to (n_samples,), for example using ravel().\n",
      "  \n",
      "/usr/local/lib/python3.5/dist-packages/sklearn/ensemble/forest.py:451: UserWarning: Some inputs do not have OOB scores. This probably means too few trees were used to compute any reliable oob estimates.\n",
      "  warn(\"Some inputs do not have OOB scores. \"\n",
      "/usr/local/lib/python3.5/dist-packages/sklearn/ensemble/forest.py:456: RuntimeWarning: invalid value encountered in true_divide\n",
      "  predictions[k].sum(axis=1)[:, np.newaxis])\n"
     ]
    },
    {
     "data": {
      "text/plain": [
       "RandomForestClassifier(bootstrap=True, class_weight=None, criterion='gini',\n",
       "            max_depth=None, max_features='auto', max_leaf_nodes=None,\n",
       "            min_impurity_decrease=0.0, min_impurity_split=None,\n",
       "            min_samples_leaf=1, min_samples_split=2,\n",
       "            min_weight_fraction_leaf=0.0, n_estimators=15, n_jobs=1,\n",
       "            oob_score=True, random_state=None, verbose=0, warm_start=False)"
      ]
     },
     "execution_count": 186,
     "metadata": {},
     "output_type": "execute_result"
    }
   ],
   "source": [
    "rf = RandomForestClassifier(n_estimators=15, oob_score=True)\n",
    "rf.fit(X_train, y_train)"
   ]
  },
  {
   "cell_type": "code",
   "execution_count": 187,
   "metadata": {
    "collapsed": true
   },
   "outputs": [],
   "source": [
    "predicted = rf.predict(X_test)\n",
    "accuracy = accuracy_score(y_test, predicted)"
   ]
  },
  {
   "cell_type": "code",
   "execution_count": 204,
   "metadata": {},
   "outputs": [
    {
     "name": "stdout",
     "output_type": "stream",
     "text": [
      "['USER' 'USER' 'USER' 'NOUSER' 'USER' 'USER' 'USER' 'NOUSER' 'USER'\n",
      " 'NOUSER' 'USER' 'USER' 'USER' 'NOUSER' 'NOUSER' 'NOUSER' 'NOUSER' 'USER'\n",
      " 'NOUSER' 'NOUSER' 'USER' 'USER' 'USER' 'USER' 'USER' 'USER' 'USER' 'USER'\n",
      " 'NOUSER' 'USER' 'USER' 'USER' 'NOUSER' 'USER' 'USER' 'USER' 'USER' 'USER'\n",
      " 'NOUSER' 'NOUSER' 'NOUSER' 'USER' 'NOUSER' 'USER' 'NOUSER' 'USER' 'USER'\n",
      " 'USER' 'NOUSER' 'USER' 'USER' 'NOUSER' 'NOUSER' 'USER' 'NOUSER' 'USER'\n",
      " 'NOUSER' 'NOUSER' 'USER' 'NOUSER' 'NOUSER' 'NOUSER' 'NOUSER' 'NOUSER'\n",
      " 'NOUSER' 'USER' 'USER' 'USER' 'NOUSER' 'NOUSER' 'NOUSER' 'NOUSER' 'USER'\n",
      " 'USER' 'USER' 'NOUSER' 'USER' 'USER' 'USER' 'NOUSER' 'USER' 'NOUSER'\n",
      " 'USER' 'NOUSER' 'NOUSER' 'USER' 'USER' 'USER' 'USER' 'NOUSER' 'USER'\n",
      " 'NOUSER' 'USER' 'USER' 'NOUSER' 'NOUSER' 'USER' 'USER' 'NOUSER' 'NOUSER'\n",
      " 'NOUSER' 'NOUSER' 'NOUSER' 'USER' 'USER' 'NOUSER' 'USER' 'USER' 'USER'\n",
      " 'USER' 'USER' 'NOUSER' 'NOUSER' 'NOUSER' 'NOUSER' 'USER' 'USER' 'USER'\n",
      " 'USER' 'NOUSER' 'USER' 'USER' 'NOUSER' 'USER' 'USER' 'USER' 'NOUSER'\n",
      " 'NOUSER' 'USER' 'USER' 'NOUSER' 'NOUSER' 'USER' 'USER' 'USER' 'USER'\n",
      " 'USER' 'NOUSER' 'NOUSER' 'NOUSER' 'USER' 'USER' 'USER' 'NOUSER' 'USER'\n",
      " 'NOUSER' 'NOUSER' 'USER' 'NOUSER' 'USER' 'NOUSER' 'USER' 'NOUSER'\n",
      " 'NOUSER' 'USER' 'USER' 'USER' 'USER' 'USER' 'USER' 'NOUSER' 'USER' 'USER'\n",
      " 'NOUSER' 'USER' 'USER' 'USER' 'NOUSER' 'USER' 'NOUSER' 'NOUSER' 'USER'\n",
      " 'NOUSER' 'NOUSER' 'NOUSER' 'USER' 'USER' 'NOUSER' 'NOUSER' 'USER' 'USER'\n",
      " 'NOUSER' 'USER' 'USER' 'USER' 'NOUSER' 'USER' 'USER' 'USER' 'USER'\n",
      " 'NOUSER' 'USER' 'USER' 'USER' 'USER' 'USER' 'USER' 'NOUSER' 'USER' 'USER'\n",
      " 'USER' 'USER' 'USER' 'NOUSER' 'NOUSER' 'USER' 'USER' 'NOUSER' 'USER'\n",
      " 'NOUSER' 'NOUSER' 'NOUSER' 'USER' 'NOUSER' 'USER' 'NOUSER' 'USER' 'USER'\n",
      " 'NOUSER' 'USER' 'USER' 'USER' 'NOUSER' 'NOUSER' 'USER' 'USER' 'NOUSER'\n",
      " 'USER' 'NOUSER' 'NOUSER' 'NOUSER' 'USER' 'USER' 'USER' 'NOUSER' 'USER'\n",
      " 'USER' 'NOUSER' 'NOUSER' 'NOUSER' 'NOUSER' 'NOUSER' 'NOUSER' 'USER'\n",
      " 'NOUSER' 'USER' 'USER' 'USER' 'USER' 'NOUSER' 'USER' 'NOUSER' 'NOUSER'\n",
      " 'USER' 'NOUSER' 'NOUSER' 'USER' 'USER' 'NOUSER' 'NOUSER' 'USER' 'NOUSER'\n",
      " 'USER' 'NOUSER' 'USER' 'NOUSER' 'NOUSER' 'NOUSER' 'NOUSER' 'USER' 'USER'\n",
      " 'USER' 'NOUSER' 'NOUSER' 'NOUSER' 'NOUSER' 'USER' 'USER' 'NOUSER' 'USER'\n",
      " 'USER' 'NOUSER' 'NOUSER' 'NOUSER' 'NOUSER' 'USER' 'USER' 'USER' 'NOUSER'\n",
      " 'USER' 'NOUSER' 'NOUSER' 'USER' 'USER' 'USER' 'USER' 'USER' 'USER' 'USER'\n",
      " 'USER' 'NOUSER' 'NOUSER' 'NOUSER' 'NOUSER' 'USER' 'USER' 'USER' 'USER'\n",
      " 'NOUSER' 'USER' 'NOUSER' 'USER' 'NOUSER' 'USER' 'USER' 'USER' 'USER'\n",
      " 'NOUSER' 'USER' 'USER' 'NOUSER' 'USER' 'NOUSER' 'USER' 'NOUSER' 'NOUSER'\n",
      " 'USER' 'NOUSER' 'NOUSER' 'NOUSER' 'NOUSER' 'NOUSER' 'USER' 'USER'\n",
      " 'NOUSER' 'NOUSER' 'USER' 'NOUSER' 'USER' 'NOUSER' 'USER' 'NOUSER'\n",
      " 'NOUSER' 'USER' 'USER' 'USER' 'USER' 'USER' 'NOUSER' 'NOUSER' 'NOUSER'\n",
      " 'NOUSER' 'USER' 'USER' 'NOUSER' 'USER' 'NOUSER' 'NOUSER' 'USER' 'NOUSER'\n",
      " 'USER' 'NOUSER' 'USER' 'NOUSER' 'NOUSER' 'NOUSER' 'NOUSER' 'NOUSER'\n",
      " 'NOUSER' 'NOUSER' 'USER' 'USER' 'NOUSER' 'NOUSER' 'USER' 'NOUSER' 'USER'\n",
      " 'NOUSER' 'USER' 'USER' 'USER' 'USER' 'USER' 'NOUSER' 'NOUSER' 'NOUSER'\n",
      " 'NOUSER' 'USER' 'USER' 'NOUSER' 'USER' 'USER' 'NOUSER' 'USER' 'USER'\n",
      " 'USER' 'USER' 'NOUSER' 'NOUSER' 'USER' 'USER' 'NOUSER' 'USER' 'NOUSER'\n",
      " 'NOUSER' 'NOUSER' 'USER' 'USER' 'NOUSER' 'USER' 'NOUSER' 'USER' 'USER'\n",
      " 'USER' 'NOUSER' 'NOUSER' 'USER' 'USER' 'USER' 'USER' 'NOUSER' 'USER'\n",
      " 'USER' 'USER' 'NOUSER' 'NOUSER' 'USER' 'NOUSER' 'USER' 'NOUSER' 'NOUSER'\n",
      " 'USER' 'USER' 'USER' 'NOUSER' 'USER' 'USER' 'NOUSER' 'USER' 'NOUSER'\n",
      " 'USER' 'NOUSER' 'USER' 'NOUSER' 'NOUSER' 'NOUSER' 'USER' 'NOUSER'\n",
      " 'NOUSER' 'USER' 'USER' 'USER' 'USER' 'NOUSER' 'USER' 'USER' 'USER' 'USER'\n",
      " 'USER' 'NOUSER' 'NOUSER' 'NOUSER' 'NOUSER' 'NOUSER' 'NOUSER' 'USER'\n",
      " 'NOUSER' 'USER' 'USER' 'USER' 'NOUSER' 'NOUSER' 'NOUSER' 'USER' 'USER'\n",
      " 'USER' 'USER' 'USER' 'NOUSER' 'NOUSER' 'NOUSER' 'NOUSER' 'USER' 'USER'\n",
      " 'USER' 'USER' 'USER' 'USER' 'NOUSER' 'NOUSER' 'USER' 'NOUSER' 'NOUSER'\n",
      " 'USER' 'NOUSER' 'NOUSER' 'USER' 'USER' 'NOUSER' 'NOUSER' 'NOUSER' 'USER'\n",
      " 'USER' 'USER' 'USER' 'USER' 'USER' 'NOUSER' 'USER' 'USER' 'USER' 'NOUSER'\n",
      " 'NOUSER' 'NOUSER' 'USER' 'USER' 'USER' 'NOUSER' 'NOUSER' 'USER' 'NOUSER'\n",
      " 'USER' 'USER' 'USER' 'USER' 'NOUSER' 'NOUSER' 'USER' 'NOUSER' 'NOUSER'\n",
      " 'USER' 'NOUSER' 'NOUSER' 'USER' 'NOUSER' 'USER' 'USER' 'USER' 'NOUSER'\n",
      " 'NOUSER' 'USER' 'USER' 'NOUSER' 'NOUSER' 'USER' 'USER' 'NOUSER' 'NOUSER'\n",
      " 'USER' 'USER' 'USER' 'NOUSER' 'USER' 'NOUSER' 'NOUSER' 'USER' 'NOUSER'\n",
      " 'NOUSER' 'USER' 'NOUSER' 'NOUSER' 'USER' 'NOUSER' 'USER' 'NOUSER' 'USER']\n",
      "Accuracy score:0.765017667844523\n"
     ]
    }
   ],
   "source": [
    "print(predicted)\n",
    "print('Accuracy score:' + str(accuracy))"
   ]
  }
 ],
 "metadata": {
  "kernelspec": {
   "display_name": "Python 3",
   "language": "python",
   "name": "python3"
  },
  "language_info": {
   "codemirror_mode": {
    "name": "ipython",
    "version": 3
   },
   "file_extension": ".py",
   "mimetype": "text/x-python",
   "name": "python",
   "nbconvert_exporter": "python",
   "pygments_lexer": "ipython3",
   "version": "3.5.3"
  }
 },
 "nbformat": 4,
 "nbformat_minor": 2
}
